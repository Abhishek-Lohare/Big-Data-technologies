{
 "cells": [
  {
   "cell_type": "code",
   "execution_count": 1,
   "metadata": {},
   "outputs": [
    {
     "ename": "ModuleNotFoundError",
     "evalue": "No module named 'findspark'",
     "output_type": "error",
     "traceback": [
      "\u001b[0;31m---------------------------------------------------------------------------\u001b[0m",
      "\u001b[0;31mModuleNotFoundError\u001b[0m                       Traceback (most recent call last)",
      "\u001b[0;32m<ipython-input-1-be8bf8b8b5e7>\u001b[0m in \u001b[0;36m<module>\u001b[0;34m\u001b[0m\n\u001b[0;32m----> 1\u001b[0;31m \u001b[0;32mimport\u001b[0m \u001b[0mfindspark\u001b[0m\u001b[0;34m\u001b[0m\u001b[0;34m\u001b[0m\u001b[0m\n\u001b[0m\u001b[1;32m      2\u001b[0m \u001b[0mfindspark\u001b[0m\u001b[0;34m.\u001b[0m\u001b[0minit\u001b[0m\u001b[0;34m(\u001b[0m\u001b[0;34m'/usr/local/spark'\u001b[0m\u001b[0;34m)\u001b[0m\u001b[0;34m\u001b[0m\u001b[0;34m\u001b[0m\u001b[0m\n\u001b[1;32m      3\u001b[0m \u001b[0;32mimport\u001b[0m \u001b[0mpyspark\u001b[0m\u001b[0;34m\u001b[0m\u001b[0;34m\u001b[0m\u001b[0m\n",
      "\u001b[0;31mModuleNotFoundError\u001b[0m: No module named 'findspark'"
     ]
    }
   ],
   "source": [
    "import findspark\n",
    "findspark.init('/usr/local/spark')\n",
    "import pyspark\n"
   ]
  },
  {
   "cell_type": "code",
   "execution_count": 2,
   "metadata": {},
   "outputs": [],
   "source": [
    "from pyspark.sql import SparkSession\n",
    "spark = SparkSession.builder.appName(\"Python dataframe example\").getOrCreate()"
   ]
  },
  {
   "cell_type": "code",
   "execution_count": 10,
   "metadata": {},
   "outputs": [],
   "source": [
    "customer = spark.read.load(\"/home/hduser/Downloads/sharedfolder/customers.txt\", format = \"csv\", sep = \"\\t\" , inferSchema = \"true\", header = \"true\")\n"
   ]
  },
  {
   "cell_type": "code",
   "execution_count": 11,
   "metadata": {},
   "outputs": [
    {
     "name": "stdout",
     "output_type": "stream",
     "text": [
      "root\n",
      " |-- customer_id: integer (nullable = true)\n",
      " |-- customer_name: string (nullable = true)\n",
      " |-- customer_city: string (nullable = true)\n",
      " |-- customer_state: string (nullable = true)\n",
      " |-- customer_zipcode: integer (nullable = true)\n",
      "\n"
     ]
    }
   ],
   "source": [
    "customer.printSchema()"
   ]
  },
  {
   "cell_type": "code",
   "execution_count": 12,
   "metadata": {},
   "outputs": [
    {
     "name": "stdout",
     "output_type": "stream",
     "text": [
      "+-----------+--------------+-------------+--------------+----------------+\n",
      "|customer_id| customer_name|customer_city|customer_state|customer_zipcode|\n",
      "+-----------+--------------+-------------+--------------+----------------+\n",
      "|      11039|   Mary Torres|       Caguas|            PR|             725|\n",
      "|       5623|    Jose Haley|     Columbus|            OH|           43207|\n",
      "|       5829|    Mary Smith|      Houston|            TX|           77015|\n",
      "|       6336|Richard Maddox|       Caguas|            PR|             725|\n",
      "|       1708|Margaret Booth|    Arlington|            TX|           76010|\n",
      "+-----------+--------------+-------------+--------------+----------------+\n",
      "only showing top 5 rows\n",
      "\n"
     ]
    }
   ],
   "source": [
    "customer.show(5)"
   ]
  },
  {
   "cell_type": "code",
   "execution_count": 17,
   "metadata": {},
   "outputs": [
    {
     "name": "stdout",
     "output_type": "stream",
     "text": [
      "+--------------+-------------+\n",
      "| customer_name|customer_city|\n",
      "+--------------+-------------+\n",
      "|   Mary Torres|       Caguas|\n",
      "|    Jose Haley|     Columbus|\n",
      "|    Mary Smith|      Houston|\n",
      "|Richard Maddox|       Caguas|\n",
      "|Margaret Booth|    Arlington|\n",
      "+--------------+-------------+\n",
      "only showing top 5 rows\n",
      "\n"
     ]
    }
   ],
   "source": [
    "customer.select(customer['customer_name'] ,customer['customer_city']).show(5)"
   ]
  },
  {
   "cell_type": "code",
   "execution_count": 18,
   "metadata": {},
   "outputs": [],
   "source": [
    "customer.createTempView(\"cusomers\")"
   ]
  },
  {
   "cell_type": "code",
   "execution_count": 24,
   "metadata": {},
   "outputs": [],
   "source": [
    "sqldf = spark.sql(\"select * from cusomers where customer_state ='CA' \")"
   ]
  },
  {
   "cell_type": "code",
   "execution_count": 25,
   "metadata": {},
   "outputs": [
    {
     "name": "stdout",
     "output_type": "stream",
     "text": [
      "+-----------+----------------+---------------+--------------+----------------+\n",
      "|customer_id|   customer_name|  customer_city|customer_state|customer_zipcode|\n",
      "+-----------+----------------+---------------+--------------+----------------+\n",
      "|       5577|      Mary Smith|        Modesto|            CA|           95350|\n",
      "|       1745|      Mary Smith|Rowland Heights|            CA|           91748|\n",
      "|      11444|Kathleen Patrick|      San Diego|            CA|           92109|\n",
      "|       8846|    Thomas Smith|          Indio|            CA|           92201|\n",
      "|       6237|  Bobby Anderson|       El Cajon|            CA|           92020|\n",
      "+-----------+----------------+---------------+--------------+----------------+\n",
      "only showing top 5 rows\n",
      "\n"
     ]
    }
   ],
   "source": [
    "sqldf.show(5)"
   ]
  },
  {
   "cell_type": "code",
   "execution_count": 31,
   "metadata": {},
   "outputs": [
    {
     "name": "stdout",
     "output_type": "stream",
     "text": [
      "+-----+--------------+\n",
      "|count|customer_state|\n",
      "+-----+--------------+\n",
      "|   19|            AZ|\n",
      "|    2|            SC|\n",
      "|    7|            LA|\n",
      "|    1|            MN|\n",
      "|   19|            NJ|\n",
      "|    4|            DC|\n",
      "|    4|            OR|\n",
      "|   14|            VA|\n",
      "|    2|            RI|\n",
      "|    1|            KY|\n",
      "|   28|            MI|\n",
      "|   16|            NV|\n",
      "|    9|            WI|\n",
      "|    2|            ID|\n",
      "|  187|            CA|\n",
      "|    8|            CT|\n",
      "|   19|            NC|\n",
      "|   19|            MD|\n",
      "|    1|            DE|\n",
      "|   13|            MO|\n",
      "+-----+--------------+\n",
      "only showing top 20 rows\n",
      "\n"
     ]
    }
   ],
   "source": [
    "sqlcount = spark.sql(\"select count(customer_state) as count,customer_state from cusomers group by customer_state\")\n",
    "sqlcount.show()"
   ]
  },
  {
   "cell_type": "code",
   "execution_count": 27,
   "metadata": {},
   "outputs": [
    {
     "name": "stdout",
     "output_type": "stream",
     "text": [
      "+--------------+-----+\n",
      "|customer_state|count|\n",
      "+--------------+-----+\n",
      "|            AZ|   19|\n",
      "|            SC|    2|\n",
      "|            LA|    7|\n",
      "|            MN|    1|\n",
      "|            NJ|   19|\n",
      "|            DC|    4|\n",
      "|            OR|    4|\n",
      "|            VA|   14|\n",
      "|            RI|    2|\n",
      "|            KY|    1|\n",
      "|            MI|   28|\n",
      "|            NV|   16|\n",
      "|            WI|    9|\n",
      "|            ID|    2|\n",
      "|            CA|  187|\n",
      "|            CT|    8|\n",
      "|            NC|   19|\n",
      "|            MD|   19|\n",
      "|            DE|    1|\n",
      "|            MO|   13|\n",
      "+--------------+-----+\n",
      "only showing top 20 rows\n",
      "\n"
     ]
    }
   ],
   "source": [
    "customer.groupBy(\"customer_state\").count().show()"
   ]
  },
  {
   "cell_type": "code",
   "execution_count": 65,
   "metadata": {},
   "outputs": [],
   "source": [
    "cstate = spark.sql(\"select  customer_state,count(customer_state) as cnt from cusomers group by customer_state having cnt > 50  \")"
   ]
  },
  {
   "cell_type": "code",
   "execution_count": 66,
   "metadata": {},
   "outputs": [],
   "source": [
    "cstate.coalesce(1).write.parquet(\"/home/hduser/Desktop/cstate\")"
   ]
  },
  {
   "cell_type": "code",
   "execution_count": 53,
   "metadata": {},
   "outputs": [],
   "source": [
    "productDF = spark.read.load(\"/home/hduser/Downloads/sharedfolder/products.json\", format = \"json\")"
   ]
  },
  {
   "cell_type": "code",
   "execution_count": 54,
   "metadata": {},
   "outputs": [
    {
     "name": "stdout",
     "output_type": "stream",
     "text": [
      "root\n",
      " |-- category_id: long (nullable = true)\n",
      " |-- customer_id: long (nullable = true)\n",
      " |-- product_category: string (nullable = true)\n",
      " |-- product_name: string (nullable = true)\n",
      " |-- product_price: double (nullable = true)\n",
      " |-- product_quantity: long (nullable = true)\n",
      " |-- salestxn_id: long (nullable = true)\n",
      "\n"
     ]
    }
   ],
   "source": [
    "productDF.printSchema()"
   ]
  },
  {
   "cell_type": "code",
   "execution_count": 68,
   "metadata": {},
   "outputs": [],
   "source": [
    "productDF.createTempView(\"prod\")"
   ]
  },
  {
   "cell_type": "code",
   "execution_count": 70,
   "metadata": {},
   "outputs": [
    {
     "name": "stdout",
     "output_type": "stream",
     "text": [
      "+-----------+-----------+----------------+--------------------+-------------+----------------+-----------+\n",
      "|category_id|customer_id|product_category|        product_name|product_price|product_quantity|salestxn_id|\n",
      "+-----------+-----------+----------------+--------------------+-------------+----------------+-----------+\n",
      "|         45|      12080|         Fishing|O'Brien Men's Neo...|        49.98|               2|      98660|\n",
      "|         45|      12279|         Fishing|O'Brien Men's Neo...|        49.98|               2|      97749|\n",
      "|         12|       3343|    Boxing & MMA|Under Armour Wome...|        31.99|               4|     103889|\n",
      "|         45|      12382|         Fishing|O'Brien Men's Neo...|        49.98|               5|      22751|\n",
      "|         47|       5032|         Boating|Pelican Sunstream...|       199.99|               1|     129001|\n",
      "+-----------+-----------+----------------+--------------------+-------------+----------------+-----------+\n",
      "only showing top 5 rows\n",
      "\n"
     ]
    }
   ],
   "source": [
    "spark.sql(\"select * from prod\").show(5)"
   ]
  },
  {
   "cell_type": "code",
   "execution_count": 71,
   "metadata": {},
   "outputs": [
    {
     "name": "stdout",
     "output_type": "stream",
     "text": [
      "+--------------------+------------------+-------------+\n",
      "|        product_name|  product_category|product_price|\n",
      "+--------------------+------------------+-------------+\n",
      "|Diamondback Women...| Bike & Skate Shop|       299.98|\n",
      "|Field & Stream Sp...|Hunting & Shooting|       399.98|\n",
      "|Diamondback Women...| Bike & Skate Shop|       299.98|\n",
      "|Diamondback Women...| Bike & Skate Shop|       299.98|\n",
      "|Diamondback Women...| Bike & Skate Shop|       299.98|\n",
      "|Field & Stream Sp...|Hunting & Shooting|       399.98|\n",
      "|Diamondback Women...| Bike & Skate Shop|       299.98|\n",
      "|Diamondback Women...| Bike & Skate Shop|       299.98|\n",
      "|Diamondback Women...| Bike & Skate Shop|       299.98|\n",
      "|Field & Stream Sp...|Hunting & Shooting|       399.98|\n",
      "|Field & Stream Sp...|Hunting & Shooting|       399.98|\n",
      "|Diamondback Women...| Bike & Skate Shop|       299.98|\n",
      "|Field & Stream Sp...|Hunting & Shooting|       399.98|\n",
      "|Field & Stream Sp...|Hunting & Shooting|       399.98|\n",
      "|Field & Stream Sp...|Hunting & Shooting|       399.98|\n",
      "|Field & Stream Sp...|Hunting & Shooting|       399.98|\n",
      "|Field & Stream Sp...|Hunting & Shooting|       399.98|\n",
      "|Diamondback Women...| Bike & Skate Shop|       299.98|\n",
      "|Field & Stream Sp...|Hunting & Shooting|       399.98|\n",
      "|Field & Stream Sp...|Hunting & Shooting|       399.98|\n",
      "+--------------------+------------------+-------------+\n",
      "only showing top 20 rows\n",
      "\n"
     ]
    }
   ],
   "source": [
    "spark.sql(\"select product_name,product_category,product_price from prod where product_price > 200  \").show()"
   ]
  },
  {
   "cell_type": "code",
   "execution_count": 76,
   "metadata": {},
   "outputs": [
    {
     "name": "stdout",
     "output_type": "stream",
     "text": [
      "+-------------------+---+\n",
      "|   product_category|cnt|\n",
      "+-------------------+---+\n",
      "|Baseball & Softball|  4|\n",
      "|  Training by Sport|  5|\n",
      "|         Golf Shoes|  6|\n",
      "|           Football| 13|\n",
      "|   Cardio Equipment| 14|\n",
      "|   Men's Golf Clubs| 21|\n",
      "|      Shop By Sport| 26|\n",
      "|           Lacrosse| 32|\n",
      "|  Strength Training| 35|\n",
      "|         Basketball| 36|\n",
      "|   Camping & Hiking| 44|\n",
      "|Fitness Accessories| 47|\n",
      "|        Electronics| 48|\n",
      "|       Golf Apparel| 51|\n",
      "|             Soccer| 53|\n",
      "| Women's Golf Clubs| 57|\n",
      "|   Tennis & Racquet| 66|\n",
      "|  Golf Bags & Carts| 89|\n",
      "|      Boys' Apparel|102|\n",
      "|        Accessories|110|\n",
      "+-------------------+---+\n",
      "only showing top 20 rows\n",
      "\n"
     ]
    }
   ],
   "source": [
    "spark.sql(\"select product_category, count(product_category) cnt from prod group by product_category order by cnt ASC  \").show()"
   ]
  },
  {
   "cell_type": "code",
   "execution_count": null,
   "metadata": {},
   "outputs": [],
   "source": []
  }
 ],
 "metadata": {
  "kernelspec": {
   "display_name": "Python 3",
   "language": "python",
   "name": "python3"
  },
  "language_info": {
   "codemirror_mode": {
    "name": "ipython",
    "version": 3
   },
   "file_extension": ".py",
   "mimetype": "text/x-python",
   "name": "python",
   "nbconvert_exporter": "python",
   "pygments_lexer": "ipython3",
   "version": "3.7.3"
  }
 },
 "nbformat": 4,
 "nbformat_minor": 2
}
